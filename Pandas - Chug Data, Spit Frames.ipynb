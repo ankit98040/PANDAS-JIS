{
 "cells": [
  {
   "cell_type": "markdown",
   "metadata": {},
   "source": [
    "<b> Pandas is a Python package providing fast, flexible, and expressive data structures designed to make working with structured (tabular, multidimensional, potentially heterogeneous) and time series data both easy and intuitive. It aims to be the fundamental high-level building block for doing practical, real world data analysis in Python. </b>\n",
    "\n",
    "<b>Pandas</b> is designed to make it easier to work with structured data. Most of the analyses you might perform will likely involve using tabular data, e.g., from .csv files or relational databases (e.g., SQL). The DataFrame object in pandas is \"a two-dimensional tabular, column-oriented data structure with both row and column labels.\"\n",
    "\n",
    "Pandas Cheatsheet: https://assets.datacamp.com/blog_assets/PandasPythonForDataScience.pdf\n",
    "\n",
    "Here are just a few of the things that pandas does well:\n",
    "\n",
    "* Robust IO tools for loading data from flat files (CSV and delimited), Excel files, databases, and saving / loading data from the ultrafast HDF5 format\n",
    "* Easy handling of missing data (represented as NaN) in floating point as well as non-floating point data\n",
    "* Size mutability: columns can be inserted and deleted from DataFrame and higher dimensional objects\n",
    "* Automatic and explicit data alignment: objects can be explicitly aligned to a set of labels, or the user can simply ignore the labels and let Series, DataFrame, etc. automatically align the data for you in computations\n",
    "* Powerful, flexible group by functionality to perform split-apply-combine operations on data sets, for both aggregating and transforming data\n",
    "* Make it easy to convert ragged, differently-indexed data in other Python and NumPy data structures into DataFrame objects\n",
    "* Intelligent label-based slicing, fancy indexing, and subsetting of large data sets\n",
    "* Intuitive merging and joining data sets\n",
    "* Flexible reshaping and pivoting of data sets\n",
    "* Hierarchical labeling of axes (possible to have multiple labels per tick)*\n",
    "* Time series-specific functionality: date range generation and frequency conversion, moving window statistics, moving window linear regressions, date shifting and lagging, etc.\n",
    "\n",
    "\n",
    "\n",
    "If you're curious:\n",
    "\n",
    "The pandas name itself is derived from panel data, an econometrics term for multidimensional structured data sets, and Python data analysis itself. After getting introduced, you can consult the full pandas documentation. \n",
    "https://pandas.pydata.org/pandas-docs/stable/?v=20190919220335\n",
    "\n"
   ]
  },
  {
   "cell_type": "markdown",
   "metadata": {},
   "source": [
    "### Today we will cover \n",
    "* Introduction of series and dataframe\n",
    "* Load csv, excel and json file from location\n",
    "* Saving file to location"
   ]
  },
  {
   "cell_type": "code",
   "execution_count": 1,
   "metadata": {},
   "outputs": [],
   "source": [
    "#Import package\n",
    "import pandas as pd\n",
    "import numpy as np"
   ]
  },
  {
   "cell_type": "code",
   "execution_count": 2,
   "metadata": {
    "scrolled": true
   },
   "outputs": [
    {
     "data": {
      "text/plain": [
       "'0.24.2'"
      ]
     },
     "execution_count": 2,
     "metadata": {},
     "output_type": "execute_result"
    }
   ],
   "source": [
    "# Version of pandas\n",
    "pd.__version__"
   ]
  },
  {
   "cell_type": "code",
   "execution_count": 3,
   "metadata": {},
   "outputs": [
    {
     "name": "stdout",
     "output_type": "stream",
     "text": [
      "Help on function sum in module pandas.core.frame:\n",
      "\n",
      "sum(self, axis=None, skipna=None, level=None, numeric_only=None, min_count=0, **kwargs)\n",
      "    Return the sum of the values for the requested axis.\n",
      "    \n",
      "                This is equivalent to the method ``numpy.sum``.\n",
      "    \n",
      "    Parameters\n",
      "    ----------\n",
      "    axis : {index (0), columns (1)}\n",
      "        Axis for the function to be applied on.\n",
      "    skipna : bool, default True\n",
      "        Exclude NA/null values when computing the result.\n",
      "    level : int or level name, default None\n",
      "        If the axis is a MultiIndex (hierarchical), count along a\n",
      "        particular level, collapsing into a Series.\n",
      "    numeric_only : bool, default None\n",
      "        Include only float, int, boolean columns. If None, will attempt to use\n",
      "        everything, then use only numeric data. Not implemented for Series.\n",
      "    min_count : int, default 0\n",
      "        The required number of valid values to perform the operation. If fewer than\n",
      "        ``min_count`` non-NA values are present the result will be NA.\n",
      "    \n",
      "        .. versionadded :: 0.22.0\n",
      "    \n",
      "           Added with the default being 0. This means the sum of an all-NA\n",
      "           or empty Series is 0, and the product of an all-NA or empty\n",
      "           Series is 1.\n",
      "    **kwargs\n",
      "        Additional keyword arguments to be passed to the function.\n",
      "    \n",
      "    Returns\n",
      "    -------\n",
      "    sum : Series or DataFrame (if level specified)\n",
      "    \n",
      "    See Also\n",
      "    --------\n",
      "    Series.sum : Return the sum.\n",
      "    Series.min : Return the minimum.\n",
      "    Series.max : Return the maximum.\n",
      "    Series.idxmin : Return the index of the minimum.\n",
      "    Series.idxmax : Return the index of the maximum.\n",
      "    DataFrame.min : Return the sum over the requested axis.\n",
      "    DataFrame.min : Return the minimum over the requested axis.\n",
      "    DataFrame.max : Return the maximum over the requested axis.\n",
      "    DataFrame.idxmin : Return the index of the minimum over the requested axis.\n",
      "    DataFrame.idxmax : Return the index of the maximum over the requested axis.\n",
      "    \n",
      "    Examples\n",
      "    --------\n",
      "    \n",
      "    >>> idx = pd.MultiIndex.from_arrays([\n",
      "    ...     ['warm', 'warm', 'cold', 'cold'],\n",
      "    ...     ['dog', 'falcon', 'fish', 'spider']],\n",
      "    ...     names=['blooded', 'animal'])\n",
      "    >>> s = pd.Series([4, 2, 0, 8], name='legs', index=idx)\n",
      "    >>> s\n",
      "    blooded  animal\n",
      "    warm     dog       4\n",
      "             falcon    2\n",
      "    cold     fish      0\n",
      "             spider    8\n",
      "    Name: legs, dtype: int64\n",
      "    \n",
      "    >>> s.sum()\n",
      "    14\n",
      "    \n",
      "    Sum using level names, as well as indices.\n",
      "    \n",
      "    >>> s.sum(level='blooded')\n",
      "    blooded\n",
      "    warm    6\n",
      "    cold    8\n",
      "    Name: legs, dtype: int64\n",
      "    \n",
      "    >>> s.sum(level=0)\n",
      "    blooded\n",
      "    warm    6\n",
      "    cold    8\n",
      "    Name: legs, dtype: int64\n",
      "    \n",
      "    By default, the sum of an empty or all-NA Series is ``0``.\n",
      "    \n",
      "    >>> pd.Series([]).sum()  # min_count=0 is the default\n",
      "    0.0\n",
      "    \n",
      "    This can be controlled with the ``min_count`` parameter. For example, if\n",
      "    you'd like the sum of an empty series to be NaN, pass ``min_count=1``.\n",
      "    \n",
      "    >>> pd.Series([]).sum(min_count=1)\n",
      "    nan\n",
      "    \n",
      "    Thanks to the ``skipna`` parameter, ``min_count`` handles all-NA and\n",
      "    empty series identically.\n",
      "    \n",
      "    >>> pd.Series([np.nan]).sum()\n",
      "    0.0\n",
      "    \n",
      "    >>> pd.Series([np.nan]).sum(min_count=1)\n",
      "    nan\n",
      "\n"
     ]
    }
   ],
   "source": [
    "# Help \n",
    "help(pd.DataFrame.sum) \n",
    "# Can also refer https://pandas.pydata.org/pandas-docs/stable/?v=20190913225125"
   ]
  },
  {
   "cell_type": "markdown",
   "metadata": {},
   "source": [
    "### Introduction of series and dataframe "
   ]
  },
  {
   "cell_type": "markdown",
   "metadata": {},
   "source": [
    "<b>Series:</b> One dimension list\n",
    "\n",
    "<b>Data Frame:</b> A Data frame is a two-dimensional data structure, i.e., data is aligned in a tabular fashion in rows and columns. Pandas DataFrame consists of three principal components, the data, rows, and columns."
   ]
  },
  {
   "cell_type": "code",
   "execution_count": 4,
   "metadata": {},
   "outputs": [
    {
     "name": "stdout",
     "output_type": "stream",
     "text": [
      "2\n",
      "2\n"
     ]
    }
   ],
   "source": [
    "# Series\n",
    "s = pd.Series([2, 3, 5, 6, 8],index=['a', 'b', 'd','e','f'])\n",
    "#print(s.astype('int'))\n",
    "print(s[0])\n",
    "print(s['a'])"
   ]
  },
  {
   "cell_type": "code",
   "execution_count": 5,
   "metadata": {},
   "outputs": [
    {
     "name": "stdout",
     "output_type": "stream",
     "text": [
      "   Ax  B  C  D\n",
      "0   5  5  5  4\n",
      "1   4  4  5  5\n",
      "2   5  4  4  4\n"
     ]
    },
    {
     "data": {
      "text/plain": [
       "0    5\n",
       "1    4\n",
       "2    5\n",
       "Name: Ax, dtype: int64"
      ]
     },
     "execution_count": 5,
     "metadata": {},
     "output_type": "execute_result"
    }
   ],
   "source": [
    "#Data Frame\n",
    "df = pd.DataFrame(np.random.randint(4, 6,(3,4)), columns=['Ax','B','C','D'])\n",
    "print(df)\n",
    "df['Ax']"
   ]
  },
  {
   "cell_type": "code",
   "execution_count": 6,
   "metadata": {},
   "outputs": [
    {
     "name": "stdout",
     "output_type": "stream",
     "text": [
      "(3, 2)\n"
     ]
    },
    {
     "data": {
      "text/html": [
       "<div>\n",
       "<style scoped>\n",
       "    .dataframe tbody tr th:only-of-type {\n",
       "        vertical-align: middle;\n",
       "    }\n",
       "\n",
       "    .dataframe tbody tr th {\n",
       "        vertical-align: top;\n",
       "    }\n",
       "\n",
       "    .dataframe thead th {\n",
       "        text-align: right;\n",
       "    }\n",
       "</style>\n",
       "<table border=\"1\" class=\"dataframe\">\n",
       "  <thead>\n",
       "    <tr style=\"text-align: right;\">\n",
       "      <th></th>\n",
       "      <th>Name</th>\n",
       "      <th>Age</th>\n",
       "    </tr>\n",
       "  </thead>\n",
       "  <tbody>\n",
       "    <tr>\n",
       "      <th>0</th>\n",
       "      <td>amar</td>\n",
       "      <td>10</td>\n",
       "    </tr>\n",
       "    <tr>\n",
       "      <th>1</th>\n",
       "      <td>akbar</td>\n",
       "      <td>15</td>\n",
       "    </tr>\n",
       "    <tr>\n",
       "      <th>2</th>\n",
       "      <td>anthony</td>\n",
       "      <td>14</td>\n",
       "    </tr>\n",
       "  </tbody>\n",
       "</table>\n",
       "</div>"
      ],
      "text/plain": [
       "      Name Age\n",
       "0     amar  10\n",
       "1    akbar  15\n",
       "2  anthony  14"
      ]
     },
     "execution_count": 6,
     "metadata": {},
     "output_type": "execute_result"
    }
   ],
   "source": [
    "# initialize list of lists \n",
    "data = np.array([['amar', 10], ['akbar', 15], ['anthony', 14]])\n",
    "print(data.shape)\n",
    "  \n",
    "# Create the pandas DataFrame \n",
    "df = pd.DataFrame(data, columns = ['Name', 'Age']) \n",
    "  \n",
    "# print dataframe. \n",
    "df "
   ]
  },
  {
   "cell_type": "code",
   "execution_count": 7,
   "metadata": {},
   "outputs": [
    {
     "data": {
      "text/html": [
       "<div>\n",
       "<style scoped>\n",
       "    .dataframe tbody tr th:only-of-type {\n",
       "        vertical-align: middle;\n",
       "    }\n",
       "\n",
       "    .dataframe tbody tr th {\n",
       "        vertical-align: top;\n",
       "    }\n",
       "\n",
       "    .dataframe thead th {\n",
       "        text-align: right;\n",
       "    }\n",
       "</style>\n",
       "<table border=\"1\" class=\"dataframe\">\n",
       "  <thead>\n",
       "    <tr style=\"text-align: right;\">\n",
       "      <th></th>\n",
       "      <th>Name</th>\n",
       "      <th>Age</th>\n",
       "    </tr>\n",
       "  </thead>\n",
       "  <tbody>\n",
       "    <tr>\n",
       "      <th>0</th>\n",
       "      <td>Tom</td>\n",
       "      <td>20</td>\n",
       "    </tr>\n",
       "    <tr>\n",
       "      <th>1</th>\n",
       "      <td>nick</td>\n",
       "      <td>21</td>\n",
       "    </tr>\n",
       "    <tr>\n",
       "      <th>2</th>\n",
       "      <td>don</td>\n",
       "      <td>19</td>\n",
       "    </tr>\n",
       "    <tr>\n",
       "      <th>3</th>\n",
       "      <td>harry</td>\n",
       "      <td>18</td>\n",
       "    </tr>\n",
       "  </tbody>\n",
       "</table>\n",
       "</div>"
      ],
      "text/plain": [
       "    Name  Age\n",
       "0    Tom   20\n",
       "1   nick   21\n",
       "2    don   19\n",
       "3  harry   18"
      ]
     },
     "execution_count": 7,
     "metadata": {},
     "output_type": "execute_result"
    }
   ],
   "source": [
    "# intialise data of lists. \n",
    "data = {'Name':['Tom', 'nick', 'don', 'harry'], 'Age':[20, 21, 19, 18]} \n",
    "  \n",
    "# Create DataFrame \n",
    "df = pd.DataFrame(data) \n",
    "  \n",
    "# Print the output. \n",
    "df "
   ]
  },
  {
   "cell_type": "code",
   "execution_count": 8,
   "metadata": {},
   "outputs": [
    {
     "data": {
      "text/html": [
       "<div>\n",
       "<style scoped>\n",
       "    .dataframe tbody tr th:only-of-type {\n",
       "        vertical-align: middle;\n",
       "    }\n",
       "\n",
       "    .dataframe tbody tr th {\n",
       "        vertical-align: top;\n",
       "    }\n",
       "\n",
       "    .dataframe thead th {\n",
       "        text-align: right;\n",
       "    }\n",
       "</style>\n",
       "<table border=\"1\" class=\"dataframe\">\n",
       "  <thead>\n",
       "    <tr style=\"text-align: right;\">\n",
       "      <th></th>\n",
       "      <th>one</th>\n",
       "      <th>two</th>\n",
       "    </tr>\n",
       "  </thead>\n",
       "  <tbody>\n",
       "    <tr>\n",
       "      <th>a</th>\n",
       "      <td>10.0</td>\n",
       "      <td>10.0</td>\n",
       "    </tr>\n",
       "    <tr>\n",
       "      <th>b</th>\n",
       "      <td>20.0</td>\n",
       "      <td>20.0</td>\n",
       "    </tr>\n",
       "    <tr>\n",
       "      <th>c</th>\n",
       "      <td>30.0</td>\n",
       "      <td>30.0</td>\n",
       "    </tr>\n",
       "    <tr>\n",
       "      <th>d</th>\n",
       "      <td>40.0</td>\n",
       "      <td>NaN</td>\n",
       "    </tr>\n",
       "    <tr>\n",
       "      <th>e</th>\n",
       "      <td>NaN</td>\n",
       "      <td>40.0</td>\n",
       "    </tr>\n",
       "  </tbody>\n",
       "</table>\n",
       "</div>"
      ],
      "text/plain": [
       "    one   two\n",
       "a  10.0  10.0\n",
       "b  20.0  20.0\n",
       "c  30.0  30.0\n",
       "d  40.0   NaN\n",
       "e   NaN  40.0"
      ]
     },
     "execution_count": 8,
     "metadata": {},
     "output_type": "execute_result"
    }
   ],
   "source": [
    "# Intialise data to Dicts of series. \n",
    "d = {'one' : pd.Series([10, 20, 30, 40], index =['a', 'b', 'c', 'd']), \n",
    "      'two' : pd.Series([10, 20, 30, 40], index =['a', 'b', 'c', 'e'])} \n",
    "  \n",
    "# creates Dataframe. \n",
    "df = pd.DataFrame(d) \n",
    "  \n",
    "# print the data. \n",
    "df "
   ]
  },
  {
   "cell_type": "code",
   "execution_count": 9,
   "metadata": {},
   "outputs": [
    {
     "data": {
      "text/html": [
       "<div>\n",
       "<style scoped>\n",
       "    .dataframe tbody tr th:only-of-type {\n",
       "        vertical-align: middle;\n",
       "    }\n",
       "\n",
       "    .dataframe tbody tr th {\n",
       "        vertical-align: top;\n",
       "    }\n",
       "\n",
       "    .dataframe thead th {\n",
       "        text-align: right;\n",
       "    }\n",
       "</style>\n",
       "<table border=\"1\" class=\"dataframe\">\n",
       "  <thead>\n",
       "    <tr style=\"text-align: right;\">\n",
       "      <th></th>\n",
       "      <th>Name</th>\n",
       "      <th>marks</th>\n",
       "    </tr>\n",
       "  </thead>\n",
       "  <tbody>\n",
       "    <tr>\n",
       "      <th>rank1</th>\n",
       "      <td>Tom</td>\n",
       "      <td>99</td>\n",
       "    </tr>\n",
       "    <tr>\n",
       "      <th>rank2</th>\n",
       "      <td>don</td>\n",
       "      <td>98</td>\n",
       "    </tr>\n",
       "    <tr>\n",
       "      <th>rank3</th>\n",
       "      <td>nick</td>\n",
       "      <td>95</td>\n",
       "    </tr>\n",
       "    <tr>\n",
       "      <th>rank4</th>\n",
       "      <td>juli</td>\n",
       "      <td>90</td>\n",
       "    </tr>\n",
       "  </tbody>\n",
       "</table>\n",
       "</div>"
      ],
      "text/plain": [
       "       Name  marks\n",
       "rank1   Tom     99\n",
       "rank2   don     98\n",
       "rank3  nick     95\n",
       "rank4  juli     90"
      ]
     },
     "execution_count": 9,
     "metadata": {},
     "output_type": "execute_result"
    }
   ],
   "source": [
    "# initialise data of lists. \n",
    "data = {'Name':['Tom', 'don', 'nick', 'juli'], 'marks':[99, 98, 95, 90]} \n",
    "  \n",
    "# Creates pandas DataFrame. \n",
    "df = pd.DataFrame(data, index =['rank1', 'rank2', 'rank3', 'rank4']) \n",
    "\n",
    "# print the data \n",
    "df"
   ]
  },
  {
   "cell_type": "code",
   "execution_count": 10,
   "metadata": {},
   "outputs": [
    {
     "data": {
      "text/html": [
       "<div>\n",
       "<style scoped>\n",
       "    .dataframe tbody tr th:only-of-type {\n",
       "        vertical-align: middle;\n",
       "    }\n",
       "\n",
       "    .dataframe tbody tr th {\n",
       "        vertical-align: top;\n",
       "    }\n",
       "\n",
       "    .dataframe thead th {\n",
       "        text-align: right;\n",
       "    }\n",
       "</style>\n",
       "<table border=\"1\" class=\"dataframe\">\n",
       "  <thead>\n",
       "    <tr style=\"text-align: right;\">\n",
       "      <th></th>\n",
       "      <th>a</th>\n",
       "      <th>b</th>\n",
       "      <th>c</th>\n",
       "    </tr>\n",
       "  </thead>\n",
       "  <tbody>\n",
       "    <tr>\n",
       "      <th>first</th>\n",
       "      <td>NaN</td>\n",
       "      <td>2</td>\n",
       "      <td>3</td>\n",
       "    </tr>\n",
       "    <tr>\n",
       "      <th>second</th>\n",
       "      <td>10.0</td>\n",
       "      <td>20</td>\n",
       "      <td>30</td>\n",
       "    </tr>\n",
       "  </tbody>\n",
       "</table>\n",
       "</div>"
      ],
      "text/plain": [
       "           a   b   c\n",
       "first    NaN   2   3\n",
       "second  10.0  20  30"
      ]
     },
     "execution_count": 10,
     "metadata": {},
     "output_type": "execute_result"
    }
   ],
   "source": [
    "# # Initialise data to lists. \n",
    "# data = [{'a': 1, 'b': 2, 'c':3}, {'a':10, 'b': 20, 'c': 30}] \n",
    "  \n",
    "# # Creates DataFrame. \n",
    "# df = pd.DataFrame(data) \n",
    "  \n",
    "# # Print the data \n",
    "# df \n",
    "# Exmaple if number of columns are different\n",
    "data = [{'b': 2, 'c':3}, {'a': 10, 'b': 20, 'c': 30}] \n",
    "df = pd.DataFrame(data, index =['first', 'second']) \n",
    "df"
   ]
  },
  {
   "cell_type": "code",
   "execution_count": 11,
   "metadata": {},
   "outputs": [
    {
     "data": {
      "text/html": [
       "<div>\n",
       "<style scoped>\n",
       "    .dataframe tbody tr th:only-of-type {\n",
       "        vertical-align: middle;\n",
       "    }\n",
       "\n",
       "    .dataframe tbody tr th {\n",
       "        vertical-align: top;\n",
       "    }\n",
       "\n",
       "    .dataframe thead th {\n",
       "        text-align: right;\n",
       "    }\n",
       "</style>\n",
       "<table border=\"1\" class=\"dataframe\">\n",
       "  <thead>\n",
       "    <tr style=\"text-align: right;\">\n",
       "      <th></th>\n",
       "      <th>Name</th>\n",
       "      <th>Age</th>\n",
       "    </tr>\n",
       "  </thead>\n",
       "  <tbody>\n",
       "    <tr>\n",
       "      <th>a</th>\n",
       "      <td>tom</td>\n",
       "      <td>34.0</td>\n",
       "    </tr>\n",
       "    <tr>\n",
       "      <th>b</th>\n",
       "      <td>krish</td>\n",
       "      <td>54.0</td>\n",
       "    </tr>\n",
       "    <tr>\n",
       "      <th>c</th>\n",
       "      <td>nick</td>\n",
       "      <td>67.0</td>\n",
       "    </tr>\n",
       "    <tr>\n",
       "      <th>d</th>\n",
       "      <td>juli</td>\n",
       "      <td>NaN</td>\n",
       "    </tr>\n",
       "  </tbody>\n",
       "</table>\n",
       "</div>"
      ],
      "text/plain": [
       "    Name   Age\n",
       "a    tom  34.0\n",
       "b  krish  54.0\n",
       "c   nick  67.0\n",
       "d   juli   NaN"
      ]
     },
     "execution_count": 11,
     "metadata": {},
     "output_type": "execute_result"
    }
   ],
   "source": [
    "# List1  \n",
    "Name = ['tom', 'krish', 'nick', 'juli']  \n",
    "    \n",
    "# List2  \n",
    "Age = [ 34,54,67,np.nan ]  \n",
    "    \n",
    "# get the list of tuples from two lists.  \n",
    "# and merge them by using zip().  \n",
    "list_of_tuples = list(zip(Name, Age))  \n",
    "    \n",
    "# Assign data to tuples.  \n",
    "# list_of_tuples   \n",
    "  \n",
    "  \n",
    "# ## Converting lists of tuples into pandas Dataframe.  \n",
    "\n",
    "df = pd.DataFrame(list_of_tuples, columns = ['Name', 'Age'],index=list('abcd'))  # ['a','b','c','d'] \n",
    "     \n",
    "# Print data.  \n",
    "df "
   ]
  },
  {
   "cell_type": "code",
   "execution_count": 12,
   "metadata": {},
   "outputs": [
    {
     "data": {
      "text/plain": [
       "Index(['a', 'b', 'c', 'd'], dtype='object')"
      ]
     },
     "execution_count": 12,
     "metadata": {},
     "output_type": "execute_result"
    }
   ],
   "source": [
    "df.index"
   ]
  },
  {
   "cell_type": "code",
   "execution_count": 13,
   "metadata": {},
   "outputs": [
    {
     "data": {
      "text/html": [
       "<div>\n",
       "<style scoped>\n",
       "    .dataframe tbody tr th:only-of-type {\n",
       "        vertical-align: middle;\n",
       "    }\n",
       "\n",
       "    .dataframe tbody tr th {\n",
       "        vertical-align: top;\n",
       "    }\n",
       "\n",
       "    .dataframe thead th {\n",
       "        text-align: right;\n",
       "    }\n",
       "</style>\n",
       "<table border=\"1\" class=\"dataframe\">\n",
       "  <thead>\n",
       "    <tr style=\"text-align: right;\">\n",
       "      <th></th>\n",
       "      <th>A</th>\n",
       "      <th>B</th>\n",
       "      <th>C</th>\n",
       "      <th>D</th>\n",
       "    </tr>\n",
       "  </thead>\n",
       "  <tbody>\n",
       "    <tr>\n",
       "      <th>0</th>\n",
       "      <td>-0.793501</td>\n",
       "      <td>0.303682</td>\n",
       "      <td>-2.438304</td>\n",
       "      <td>0.135801</td>\n",
       "    </tr>\n",
       "    <tr>\n",
       "      <th>1</th>\n",
       "      <td>-0.317886</td>\n",
       "      <td>-0.382391</td>\n",
       "      <td>-0.030949</td>\n",
       "      <td>0.006409</td>\n",
       "    </tr>\n",
       "    <tr>\n",
       "      <th>2</th>\n",
       "      <td>0.713554</td>\n",
       "      <td>-1.474044</td>\n",
       "      <td>-1.611839</td>\n",
       "      <td>1.256339</td>\n",
       "    </tr>\n",
       "    <tr>\n",
       "      <th>3</th>\n",
       "      <td>1.152904</td>\n",
       "      <td>0.875935</td>\n",
       "      <td>-0.695734</td>\n",
       "      <td>-0.173973</td>\n",
       "    </tr>\n",
       "    <tr>\n",
       "      <th>4</th>\n",
       "      <td>0.349070</td>\n",
       "      <td>0.145427</td>\n",
       "      <td>-0.647036</td>\n",
       "      <td>-2.044697</td>\n",
       "    </tr>\n",
       "    <tr>\n",
       "      <th>5</th>\n",
       "      <td>0.411428</td>\n",
       "      <td>-1.026737</td>\n",
       "      <td>-1.153064</td>\n",
       "      <td>-1.858064</td>\n",
       "    </tr>\n",
       "    <tr>\n",
       "      <th>6</th>\n",
       "      <td>-0.022134</td>\n",
       "      <td>-0.838588</td>\n",
       "      <td>1.034511</td>\n",
       "      <td>1.086838</td>\n",
       "    </tr>\n",
       "    <tr>\n",
       "      <th>7</th>\n",
       "      <td>0.311615</td>\n",
       "      <td>-0.175301</td>\n",
       "      <td>-0.063252</td>\n",
       "      <td>2.947099</td>\n",
       "    </tr>\n",
       "    <tr>\n",
       "      <th>8</th>\n",
       "      <td>0.112965</td>\n",
       "      <td>-0.025156</td>\n",
       "      <td>0.290681</td>\n",
       "      <td>1.517684</td>\n",
       "    </tr>\n",
       "    <tr>\n",
       "      <th>9</th>\n",
       "      <td>1.073733</td>\n",
       "      <td>0.009069</td>\n",
       "      <td>1.434101</td>\n",
       "      <td>-0.324224</td>\n",
       "    </tr>\n",
       "    <tr>\n",
       "      <th>10</th>\n",
       "      <td>-1.914762</td>\n",
       "      <td>-0.265914</td>\n",
       "      <td>-2.622818</td>\n",
       "      <td>-0.203193</td>\n",
       "    </tr>\n",
       "    <tr>\n",
       "      <th>11</th>\n",
       "      <td>0.223135</td>\n",
       "      <td>-2.107193</td>\n",
       "      <td>0.335140</td>\n",
       "      <td>-1.229198</td>\n",
       "    </tr>\n",
       "    <tr>\n",
       "      <th>12</th>\n",
       "      <td>-0.935120</td>\n",
       "      <td>1.085023</td>\n",
       "      <td>1.426574</td>\n",
       "      <td>-0.055636</td>\n",
       "    </tr>\n",
       "    <tr>\n",
       "      <th>13</th>\n",
       "      <td>-1.210220</td>\n",
       "      <td>0.094843</td>\n",
       "      <td>-0.890266</td>\n",
       "      <td>-0.723416</td>\n",
       "    </tr>\n",
       "    <tr>\n",
       "      <th>14</th>\n",
       "      <td>-0.858159</td>\n",
       "      <td>0.079016</td>\n",
       "      <td>0.943580</td>\n",
       "      <td>0.401332</td>\n",
       "    </tr>\n",
       "  </tbody>\n",
       "</table>\n",
       "</div>"
      ],
      "text/plain": [
       "           A         B         C         D\n",
       "0  -0.793501  0.303682 -2.438304  0.135801\n",
       "1  -0.317886 -0.382391 -0.030949  0.006409\n",
       "2   0.713554 -1.474044 -1.611839  1.256339\n",
       "3   1.152904  0.875935 -0.695734 -0.173973\n",
       "4   0.349070  0.145427 -0.647036 -2.044697\n",
       "5   0.411428 -1.026737 -1.153064 -1.858064\n",
       "6  -0.022134 -0.838588  1.034511  1.086838\n",
       "7   0.311615 -0.175301 -0.063252  2.947099\n",
       "8   0.112965 -0.025156  0.290681  1.517684\n",
       "9   1.073733  0.009069  1.434101 -0.324224\n",
       "10 -1.914762 -0.265914 -2.622818 -0.203193\n",
       "11  0.223135 -2.107193  0.335140 -1.229198\n",
       "12 -0.935120  1.085023  1.426574 -0.055636\n",
       "13 -1.210220  0.094843 -0.890266 -0.723416\n",
       "14 -0.858159  0.079016  0.943580  0.401332"
      ]
     },
     "execution_count": 13,
     "metadata": {},
     "output_type": "execute_result"
    }
   ],
   "source": [
    "df = pd.DataFrame(np.random.randn(15, 4), columns=['A','B','C','D'])\n",
    "df"
   ]
  },
  {
   "cell_type": "code",
   "execution_count": 14,
   "metadata": {
    "scrolled": true
   },
   "outputs": [
    {
     "data": {
      "text/html": [
       "<div>\n",
       "<style scoped>\n",
       "    .dataframe tbody tr th:only-of-type {\n",
       "        vertical-align: middle;\n",
       "    }\n",
       "\n",
       "    .dataframe tbody tr th {\n",
       "        vertical-align: top;\n",
       "    }\n",
       "\n",
       "    .dataframe thead th {\n",
       "        text-align: right;\n",
       "    }\n",
       "</style>\n",
       "<table border=\"1\" class=\"dataframe\">\n",
       "  <thead>\n",
       "    <tr style=\"text-align: right;\">\n",
       "      <th></th>\n",
       "      <th>A</th>\n",
       "      <th>B</th>\n",
       "      <th>C</th>\n",
       "      <th>D</th>\n",
       "    </tr>\n",
       "  </thead>\n",
       "  <tbody>\n",
       "    <tr>\n",
       "      <th>0</th>\n",
       "      <td>-0.793501</td>\n",
       "      <td>0.303682</td>\n",
       "      <td>-2.438304</td>\n",
       "      <td>0.135801</td>\n",
       "    </tr>\n",
       "    <tr>\n",
       "      <th>1</th>\n",
       "      <td>-0.317886</td>\n",
       "      <td>-0.382391</td>\n",
       "      <td>-0.030949</td>\n",
       "      <td>0.006409</td>\n",
       "    </tr>\n",
       "    <tr>\n",
       "      <th>2</th>\n",
       "      <td>0.713554</td>\n",
       "      <td>-1.474044</td>\n",
       "      <td>-1.611839</td>\n",
       "      <td>1.256339</td>\n",
       "    </tr>\n",
       "    <tr>\n",
       "      <th>3</th>\n",
       "      <td>1.152904</td>\n",
       "      <td>0.875935</td>\n",
       "      <td>-0.695734</td>\n",
       "      <td>-0.173973</td>\n",
       "    </tr>\n",
       "    <tr>\n",
       "      <th>4</th>\n",
       "      <td>0.349070</td>\n",
       "      <td>0.145427</td>\n",
       "      <td>-0.647036</td>\n",
       "      <td>-2.044697</td>\n",
       "    </tr>\n",
       "  </tbody>\n",
       "</table>\n",
       "</div>"
      ],
      "text/plain": [
       "          A         B         C         D\n",
       "0 -0.793501  0.303682 -2.438304  0.135801\n",
       "1 -0.317886 -0.382391 -0.030949  0.006409\n",
       "2  0.713554 -1.474044 -1.611839  1.256339\n",
       "3  1.152904  0.875935 -0.695734 -0.173973\n",
       "4  0.349070  0.145427 -0.647036 -2.044697"
      ]
     },
     "execution_count": 14,
     "metadata": {},
     "output_type": "execute_result"
    }
   ],
   "source": [
    "# Head, tail, columns, index\n",
    "df.head() #  First 5 values "
   ]
  },
  {
   "cell_type": "code",
   "execution_count": 15,
   "metadata": {},
   "outputs": [
    {
     "name": "stdout",
     "output_type": "stream",
     "text": [
      "           A         B         C         D\n",
      "13 -1.210220  0.094843 -0.890266 -0.723416\n",
      "14 -0.858159  0.079016  0.943580  0.401332\n"
     ]
    }
   ],
   "source": [
    "print(df.tail(2)) # Last 5 values"
   ]
  },
  {
   "cell_type": "code",
   "execution_count": 16,
   "metadata": {},
   "outputs": [
    {
     "name": "stdout",
     "output_type": "stream",
     "text": [
      "Index(['A', 'B', 'C', 'D'], dtype='object')\n"
     ]
    }
   ],
   "source": [
    "print(df.columns)"
   ]
  },
  {
   "cell_type": "code",
   "execution_count": 17,
   "metadata": {},
   "outputs": [
    {
     "name": "stdout",
     "output_type": "stream",
     "text": [
      "RangeIndex(start=0, stop=15, step=1)\n"
     ]
    }
   ],
   "source": [
    "print(df.index)"
   ]
  },
  {
   "cell_type": "code",
   "execution_count": 18,
   "metadata": {},
   "outputs": [
    {
     "name": "stdout",
     "output_type": "stream",
     "text": [
      "           A         B         C         D\n",
      "0  -0.793501  0.303682 -2.438304  0.135801\n",
      "1  -0.317886 -0.382391 -0.030949  0.006409\n",
      "2   0.713554 -1.474044 -1.611839  1.256339\n",
      "3   1.152904  0.875935 -0.695734 -0.173973\n",
      "4   0.349070  0.145427 -0.647036 -2.044697\n",
      "5   0.411428 -1.026737 -1.153064 -1.858064\n",
      "6  -0.022134 -0.838588  1.034511  1.086838\n",
      "7   0.311615 -0.175301 -0.063252  2.947099\n",
      "8   0.112965 -0.025156  0.290681  1.517684\n",
      "9   1.073733  0.009069  1.434101 -0.324224\n",
      "10 -1.914762 -0.265914 -2.622818 -0.203193\n",
      "11  0.223135 -2.107193  0.335140 -1.229198\n",
      "12 -0.935120  1.085023  1.426574 -0.055636\n",
      "13 -1.210220  0.094843 -0.890266 -0.723416\n",
      "14 -0.858159  0.079016  0.943580  0.401332\n"
     ]
    }
   ],
   "source": [
    "print(df)"
   ]
  },
  {
   "cell_type": "code",
   "execution_count": 19,
   "metadata": {},
   "outputs": [
    {
     "name": "stdout",
     "output_type": "stream",
     "text": [
      "<class 'pandas.core.frame.DataFrame'>\n",
      "RangeIndex: 15 entries, 0 to 14\n",
      "Data columns (total 4 columns):\n",
      "A    15 non-null float64\n",
      "B    15 non-null float64\n",
      "C    15 non-null float64\n",
      "D    15 non-null float64\n",
      "dtypes: float64(4)\n",
      "memory usage: 560.0 bytes\n",
      "None\n"
     ]
    }
   ],
   "source": [
    "print(df.info()) "
   ]
  },
  {
   "cell_type": "markdown",
   "metadata": {},
   "source": [
    "### Rename"
   ]
  },
  {
   "cell_type": "code",
   "execution_count": 20,
   "metadata": {},
   "outputs": [
    {
     "data": {
      "text/html": [
       "<div>\n",
       "<style scoped>\n",
       "    .dataframe tbody tr th:only-of-type {\n",
       "        vertical-align: middle;\n",
       "    }\n",
       "\n",
       "    .dataframe tbody tr th {\n",
       "        vertical-align: top;\n",
       "    }\n",
       "\n",
       "    .dataframe thead th {\n",
       "        text-align: right;\n",
       "    }\n",
       "</style>\n",
       "<table border=\"1\" class=\"dataframe\">\n",
       "  <thead>\n",
       "    <tr style=\"text-align: right;\">\n",
       "      <th></th>\n",
       "      <th>A</th>\n",
       "      <th>B</th>\n",
       "      <th>C</th>\n",
       "      <th>D</th>\n",
       "    </tr>\n",
       "  </thead>\n",
       "  <tbody>\n",
       "    <tr>\n",
       "      <th>0</th>\n",
       "      <td>-0.793501</td>\n",
       "      <td>0.303682</td>\n",
       "      <td>-2.438304</td>\n",
       "      <td>0.135801</td>\n",
       "    </tr>\n",
       "    <tr>\n",
       "      <th>1</th>\n",
       "      <td>-0.317886</td>\n",
       "      <td>-0.382391</td>\n",
       "      <td>-0.030949</td>\n",
       "      <td>0.006409</td>\n",
       "    </tr>\n",
       "    <tr>\n",
       "      <th>2</th>\n",
       "      <td>0.713554</td>\n",
       "      <td>-1.474044</td>\n",
       "      <td>-1.611839</td>\n",
       "      <td>1.256339</td>\n",
       "    </tr>\n",
       "    <tr>\n",
       "      <th>3</th>\n",
       "      <td>1.152904</td>\n",
       "      <td>0.875935</td>\n",
       "      <td>-0.695734</td>\n",
       "      <td>-0.173973</td>\n",
       "    </tr>\n",
       "    <tr>\n",
       "      <th>4</th>\n",
       "      <td>0.349070</td>\n",
       "      <td>0.145427</td>\n",
       "      <td>-0.647036</td>\n",
       "      <td>-2.044697</td>\n",
       "    </tr>\n",
       "    <tr>\n",
       "      <th>5</th>\n",
       "      <td>0.411428</td>\n",
       "      <td>-1.026737</td>\n",
       "      <td>-1.153064</td>\n",
       "      <td>-1.858064</td>\n",
       "    </tr>\n",
       "    <tr>\n",
       "      <th>6</th>\n",
       "      <td>-0.022134</td>\n",
       "      <td>-0.838588</td>\n",
       "      <td>1.034511</td>\n",
       "      <td>1.086838</td>\n",
       "    </tr>\n",
       "    <tr>\n",
       "      <th>7</th>\n",
       "      <td>0.311615</td>\n",
       "      <td>-0.175301</td>\n",
       "      <td>-0.063252</td>\n",
       "      <td>2.947099</td>\n",
       "    </tr>\n",
       "    <tr>\n",
       "      <th>8</th>\n",
       "      <td>0.112965</td>\n",
       "      <td>-0.025156</td>\n",
       "      <td>0.290681</td>\n",
       "      <td>1.517684</td>\n",
       "    </tr>\n",
       "    <tr>\n",
       "      <th>9</th>\n",
       "      <td>1.073733</td>\n",
       "      <td>0.009069</td>\n",
       "      <td>1.434101</td>\n",
       "      <td>-0.324224</td>\n",
       "    </tr>\n",
       "    <tr>\n",
       "      <th>10</th>\n",
       "      <td>-1.914762</td>\n",
       "      <td>-0.265914</td>\n",
       "      <td>-2.622818</td>\n",
       "      <td>-0.203193</td>\n",
       "    </tr>\n",
       "    <tr>\n",
       "      <th>11</th>\n",
       "      <td>0.223135</td>\n",
       "      <td>-2.107193</td>\n",
       "      <td>0.335140</td>\n",
       "      <td>-1.229198</td>\n",
       "    </tr>\n",
       "    <tr>\n",
       "      <th>12</th>\n",
       "      <td>-0.935120</td>\n",
       "      <td>1.085023</td>\n",
       "      <td>1.426574</td>\n",
       "      <td>-0.055636</td>\n",
       "    </tr>\n",
       "    <tr>\n",
       "      <th>13</th>\n",
       "      <td>-1.210220</td>\n",
       "      <td>0.094843</td>\n",
       "      <td>-0.890266</td>\n",
       "      <td>-0.723416</td>\n",
       "    </tr>\n",
       "    <tr>\n",
       "      <th>14</th>\n",
       "      <td>-0.858159</td>\n",
       "      <td>0.079016</td>\n",
       "      <td>0.943580</td>\n",
       "      <td>0.401332</td>\n",
       "    </tr>\n",
       "  </tbody>\n",
       "</table>\n",
       "</div>"
      ],
      "text/plain": [
       "           A         B         C         D\n",
       "0  -0.793501  0.303682 -2.438304  0.135801\n",
       "1  -0.317886 -0.382391 -0.030949  0.006409\n",
       "2   0.713554 -1.474044 -1.611839  1.256339\n",
       "3   1.152904  0.875935 -0.695734 -0.173973\n",
       "4   0.349070  0.145427 -0.647036 -2.044697\n",
       "5   0.411428 -1.026737 -1.153064 -1.858064\n",
       "6  -0.022134 -0.838588  1.034511  1.086838\n",
       "7   0.311615 -0.175301 -0.063252  2.947099\n",
       "8   0.112965 -0.025156  0.290681  1.517684\n",
       "9   1.073733  0.009069  1.434101 -0.324224\n",
       "10 -1.914762 -0.265914 -2.622818 -0.203193\n",
       "11  0.223135 -2.107193  0.335140 -1.229198\n",
       "12 -0.935120  1.085023  1.426574 -0.055636\n",
       "13 -1.210220  0.094843 -0.890266 -0.723416\n",
       "14 -0.858159  0.079016  0.943580  0.401332"
      ]
     },
     "execution_count": 20,
     "metadata": {},
     "output_type": "execute_result"
    }
   ],
   "source": [
    "df"
   ]
  },
  {
   "cell_type": "code",
   "execution_count": 21,
   "metadata": {},
   "outputs": [],
   "source": [
    "df.rename({'Name':'Rename'},axis=1,inplace = True) # "
   ]
  },
  {
   "cell_type": "code",
   "execution_count": 22,
   "metadata": {},
   "outputs": [
    {
     "data": {
      "text/html": [
       "<div>\n",
       "<style scoped>\n",
       "    .dataframe tbody tr th:only-of-type {\n",
       "        vertical-align: middle;\n",
       "    }\n",
       "\n",
       "    .dataframe tbody tr th {\n",
       "        vertical-align: top;\n",
       "    }\n",
       "\n",
       "    .dataframe thead th {\n",
       "        text-align: right;\n",
       "    }\n",
       "</style>\n",
       "<table border=\"1\" class=\"dataframe\">\n",
       "  <thead>\n",
       "    <tr style=\"text-align: right;\">\n",
       "      <th></th>\n",
       "      <th>A</th>\n",
       "      <th>B</th>\n",
       "      <th>C</th>\n",
       "      <th>D</th>\n",
       "    </tr>\n",
       "  </thead>\n",
       "  <tbody>\n",
       "    <tr>\n",
       "      <th>0</th>\n",
       "      <td>-0.793501</td>\n",
       "      <td>0.303682</td>\n",
       "      <td>-2.438304</td>\n",
       "      <td>0.135801</td>\n",
       "    </tr>\n",
       "    <tr>\n",
       "      <th>1</th>\n",
       "      <td>-0.317886</td>\n",
       "      <td>-0.382391</td>\n",
       "      <td>-0.030949</td>\n",
       "      <td>0.006409</td>\n",
       "    </tr>\n",
       "    <tr>\n",
       "      <th>2</th>\n",
       "      <td>0.713554</td>\n",
       "      <td>-1.474044</td>\n",
       "      <td>-1.611839</td>\n",
       "      <td>1.256339</td>\n",
       "    </tr>\n",
       "    <tr>\n",
       "      <th>3</th>\n",
       "      <td>1.152904</td>\n",
       "      <td>0.875935</td>\n",
       "      <td>-0.695734</td>\n",
       "      <td>-0.173973</td>\n",
       "    </tr>\n",
       "    <tr>\n",
       "      <th>4</th>\n",
       "      <td>0.349070</td>\n",
       "      <td>0.145427</td>\n",
       "      <td>-0.647036</td>\n",
       "      <td>-2.044697</td>\n",
       "    </tr>\n",
       "    <tr>\n",
       "      <th>5</th>\n",
       "      <td>0.411428</td>\n",
       "      <td>-1.026737</td>\n",
       "      <td>-1.153064</td>\n",
       "      <td>-1.858064</td>\n",
       "    </tr>\n",
       "    <tr>\n",
       "      <th>6</th>\n",
       "      <td>-0.022134</td>\n",
       "      <td>-0.838588</td>\n",
       "      <td>1.034511</td>\n",
       "      <td>1.086838</td>\n",
       "    </tr>\n",
       "    <tr>\n",
       "      <th>7</th>\n",
       "      <td>0.311615</td>\n",
       "      <td>-0.175301</td>\n",
       "      <td>-0.063252</td>\n",
       "      <td>2.947099</td>\n",
       "    </tr>\n",
       "    <tr>\n",
       "      <th>8</th>\n",
       "      <td>0.112965</td>\n",
       "      <td>-0.025156</td>\n",
       "      <td>0.290681</td>\n",
       "      <td>1.517684</td>\n",
       "    </tr>\n",
       "    <tr>\n",
       "      <th>9</th>\n",
       "      <td>1.073733</td>\n",
       "      <td>0.009069</td>\n",
       "      <td>1.434101</td>\n",
       "      <td>-0.324224</td>\n",
       "    </tr>\n",
       "    <tr>\n",
       "      <th>10</th>\n",
       "      <td>-1.914762</td>\n",
       "      <td>-0.265914</td>\n",
       "      <td>-2.622818</td>\n",
       "      <td>-0.203193</td>\n",
       "    </tr>\n",
       "    <tr>\n",
       "      <th>11</th>\n",
       "      <td>0.223135</td>\n",
       "      <td>-2.107193</td>\n",
       "      <td>0.335140</td>\n",
       "      <td>-1.229198</td>\n",
       "    </tr>\n",
       "    <tr>\n",
       "      <th>12</th>\n",
       "      <td>-0.935120</td>\n",
       "      <td>1.085023</td>\n",
       "      <td>1.426574</td>\n",
       "      <td>-0.055636</td>\n",
       "    </tr>\n",
       "    <tr>\n",
       "      <th>13</th>\n",
       "      <td>-1.210220</td>\n",
       "      <td>0.094843</td>\n",
       "      <td>-0.890266</td>\n",
       "      <td>-0.723416</td>\n",
       "    </tr>\n",
       "    <tr>\n",
       "      <th>14</th>\n",
       "      <td>-0.858159</td>\n",
       "      <td>0.079016</td>\n",
       "      <td>0.943580</td>\n",
       "      <td>0.401332</td>\n",
       "    </tr>\n",
       "  </tbody>\n",
       "</table>\n",
       "</div>"
      ],
      "text/plain": [
       "           A         B         C         D\n",
       "0  -0.793501  0.303682 -2.438304  0.135801\n",
       "1  -0.317886 -0.382391 -0.030949  0.006409\n",
       "2   0.713554 -1.474044 -1.611839  1.256339\n",
       "3   1.152904  0.875935 -0.695734 -0.173973\n",
       "4   0.349070  0.145427 -0.647036 -2.044697\n",
       "5   0.411428 -1.026737 -1.153064 -1.858064\n",
       "6  -0.022134 -0.838588  1.034511  1.086838\n",
       "7   0.311615 -0.175301 -0.063252  2.947099\n",
       "8   0.112965 -0.025156  0.290681  1.517684\n",
       "9   1.073733  0.009069  1.434101 -0.324224\n",
       "10 -1.914762 -0.265914 -2.622818 -0.203193\n",
       "11  0.223135 -2.107193  0.335140 -1.229198\n",
       "12 -0.935120  1.085023  1.426574 -0.055636\n",
       "13 -1.210220  0.094843 -0.890266 -0.723416\n",
       "14 -0.858159  0.079016  0.943580  0.401332"
      ]
     },
     "execution_count": 22,
     "metadata": {},
     "output_type": "execute_result"
    }
   ],
   "source": [
    "df"
   ]
  },
  {
   "cell_type": "code",
   "execution_count": 23,
   "metadata": {},
   "outputs": [],
   "source": [
    "df2=df.rename({'Name':'Rename'},axis=1)"
   ]
  },
  {
   "cell_type": "code",
   "execution_count": 24,
   "metadata": {},
   "outputs": [
    {
     "data": {
      "text/html": [
       "<div>\n",
       "<style scoped>\n",
       "    .dataframe tbody tr th:only-of-type {\n",
       "        vertical-align: middle;\n",
       "    }\n",
       "\n",
       "    .dataframe tbody tr th {\n",
       "        vertical-align: top;\n",
       "    }\n",
       "\n",
       "    .dataframe thead th {\n",
       "        text-align: right;\n",
       "    }\n",
       "</style>\n",
       "<table border=\"1\" class=\"dataframe\">\n",
       "  <thead>\n",
       "    <tr style=\"text-align: right;\">\n",
       "      <th></th>\n",
       "      <th>A</th>\n",
       "      <th>B</th>\n",
       "      <th>C</th>\n",
       "      <th>D</th>\n",
       "    </tr>\n",
       "  </thead>\n",
       "  <tbody>\n",
       "    <tr>\n",
       "      <th>0</th>\n",
       "      <td>-0.793501</td>\n",
       "      <td>0.303682</td>\n",
       "      <td>-2.438304</td>\n",
       "      <td>0.135801</td>\n",
       "    </tr>\n",
       "    <tr>\n",
       "      <th>1</th>\n",
       "      <td>-0.317886</td>\n",
       "      <td>-0.382391</td>\n",
       "      <td>-0.030949</td>\n",
       "      <td>0.006409</td>\n",
       "    </tr>\n",
       "    <tr>\n",
       "      <th>2</th>\n",
       "      <td>0.713554</td>\n",
       "      <td>-1.474044</td>\n",
       "      <td>-1.611839</td>\n",
       "      <td>1.256339</td>\n",
       "    </tr>\n",
       "    <tr>\n",
       "      <th>3</th>\n",
       "      <td>1.152904</td>\n",
       "      <td>0.875935</td>\n",
       "      <td>-0.695734</td>\n",
       "      <td>-0.173973</td>\n",
       "    </tr>\n",
       "    <tr>\n",
       "      <th>4</th>\n",
       "      <td>0.349070</td>\n",
       "      <td>0.145427</td>\n",
       "      <td>-0.647036</td>\n",
       "      <td>-2.044697</td>\n",
       "    </tr>\n",
       "    <tr>\n",
       "      <th>5</th>\n",
       "      <td>0.411428</td>\n",
       "      <td>-1.026737</td>\n",
       "      <td>-1.153064</td>\n",
       "      <td>-1.858064</td>\n",
       "    </tr>\n",
       "    <tr>\n",
       "      <th>6</th>\n",
       "      <td>-0.022134</td>\n",
       "      <td>-0.838588</td>\n",
       "      <td>1.034511</td>\n",
       "      <td>1.086838</td>\n",
       "    </tr>\n",
       "    <tr>\n",
       "      <th>7</th>\n",
       "      <td>0.311615</td>\n",
       "      <td>-0.175301</td>\n",
       "      <td>-0.063252</td>\n",
       "      <td>2.947099</td>\n",
       "    </tr>\n",
       "    <tr>\n",
       "      <th>8</th>\n",
       "      <td>0.112965</td>\n",
       "      <td>-0.025156</td>\n",
       "      <td>0.290681</td>\n",
       "      <td>1.517684</td>\n",
       "    </tr>\n",
       "    <tr>\n",
       "      <th>9</th>\n",
       "      <td>1.073733</td>\n",
       "      <td>0.009069</td>\n",
       "      <td>1.434101</td>\n",
       "      <td>-0.324224</td>\n",
       "    </tr>\n",
       "    <tr>\n",
       "      <th>10</th>\n",
       "      <td>-1.914762</td>\n",
       "      <td>-0.265914</td>\n",
       "      <td>-2.622818</td>\n",
       "      <td>-0.203193</td>\n",
       "    </tr>\n",
       "    <tr>\n",
       "      <th>11</th>\n",
       "      <td>0.223135</td>\n",
       "      <td>-2.107193</td>\n",
       "      <td>0.335140</td>\n",
       "      <td>-1.229198</td>\n",
       "    </tr>\n",
       "    <tr>\n",
       "      <th>12</th>\n",
       "      <td>-0.935120</td>\n",
       "      <td>1.085023</td>\n",
       "      <td>1.426574</td>\n",
       "      <td>-0.055636</td>\n",
       "    </tr>\n",
       "    <tr>\n",
       "      <th>13</th>\n",
       "      <td>-1.210220</td>\n",
       "      <td>0.094843</td>\n",
       "      <td>-0.890266</td>\n",
       "      <td>-0.723416</td>\n",
       "    </tr>\n",
       "    <tr>\n",
       "      <th>14</th>\n",
       "      <td>-0.858159</td>\n",
       "      <td>0.079016</td>\n",
       "      <td>0.943580</td>\n",
       "      <td>0.401332</td>\n",
       "    </tr>\n",
       "  </tbody>\n",
       "</table>\n",
       "</div>"
      ],
      "text/plain": [
       "           A         B         C         D\n",
       "0  -0.793501  0.303682 -2.438304  0.135801\n",
       "1  -0.317886 -0.382391 -0.030949  0.006409\n",
       "2   0.713554 -1.474044 -1.611839  1.256339\n",
       "3   1.152904  0.875935 -0.695734 -0.173973\n",
       "4   0.349070  0.145427 -0.647036 -2.044697\n",
       "5   0.411428 -1.026737 -1.153064 -1.858064\n",
       "6  -0.022134 -0.838588  1.034511  1.086838\n",
       "7   0.311615 -0.175301 -0.063252  2.947099\n",
       "8   0.112965 -0.025156  0.290681  1.517684\n",
       "9   1.073733  0.009069  1.434101 -0.324224\n",
       "10 -1.914762 -0.265914 -2.622818 -0.203193\n",
       "11  0.223135 -2.107193  0.335140 -1.229198\n",
       "12 -0.935120  1.085023  1.426574 -0.055636\n",
       "13 -1.210220  0.094843 -0.890266 -0.723416\n",
       "14 -0.858159  0.079016  0.943580  0.401332"
      ]
     },
     "execution_count": 24,
     "metadata": {},
     "output_type": "execute_result"
    }
   ],
   "source": [
    "df2"
   ]
  },
  {
   "cell_type": "markdown",
   "metadata": {},
   "source": [
    "### Load csv, excel and Json file from location"
   ]
  },
  {
   "cell_type": "markdown",
   "metadata": {},
   "source": [
    "#### Loading CSV file"
   ]
  },
  {
   "cell_type": "code",
   "execution_count": 25,
   "metadata": {},
   "outputs": [],
   "source": [
    "cols=['id', 'belongs_to_collection', 'budget', 'genres', 'homepage',\n",
    "       'imdb_id', 'original_language', 'original_title', 'overview',\n",
    "       'popularity', 'poster_path', 'production_companies',\n",
    "       'production_countries', 'release_date', 'runtime', 'spoken_languages',\n",
    "       'status', 'tagline', 'title', 'Keywords', 'cast', 'crew', 'revenue']"
   ]
  },
  {
   "cell_type": "code",
   "execution_count": 26,
   "metadata": {},
   "outputs": [],
   "source": [
    "#C:\\Users\\koser\\Documents\\Floatint Courses\\Machine Learning From Scratch\\C01L09- Chug Data, Spit Frames\\data"
   ]
  },
  {
   "cell_type": "code",
   "execution_count": 27,
   "metadata": {},
   "outputs": [],
   "source": [
    "df=pd.read_csv('./data/train.csv',\n",
    "               header=None,names=cols,sep=',') #"
   ]
  },
  {
   "cell_type": "code",
   "execution_count": 28,
   "metadata": {},
   "outputs": [
    {
     "data": {
      "text/html": [
       "<div>\n",
       "<style scoped>\n",
       "    .dataframe tbody tr th:only-of-type {\n",
       "        vertical-align: middle;\n",
       "    }\n",
       "\n",
       "    .dataframe tbody tr th {\n",
       "        vertical-align: top;\n",
       "    }\n",
       "\n",
       "    .dataframe thead th {\n",
       "        text-align: right;\n",
       "    }\n",
       "</style>\n",
       "<table border=\"1\" class=\"dataframe\">\n",
       "  <thead>\n",
       "    <tr style=\"text-align: right;\">\n",
       "      <th></th>\n",
       "      <th>id</th>\n",
       "      <th>belongs_to_collection</th>\n",
       "      <th>budget</th>\n",
       "      <th>genres</th>\n",
       "      <th>homepage</th>\n",
       "      <th>imdb_id</th>\n",
       "      <th>original_language</th>\n",
       "      <th>original_title</th>\n",
       "      <th>overview</th>\n",
       "      <th>popularity</th>\n",
       "      <th>...</th>\n",
       "      <th>release_date</th>\n",
       "      <th>runtime</th>\n",
       "      <th>spoken_languages</th>\n",
       "      <th>status</th>\n",
       "      <th>tagline</th>\n",
       "      <th>title</th>\n",
       "      <th>Keywords</th>\n",
       "      <th>cast</th>\n",
       "      <th>crew</th>\n",
       "      <th>revenue</th>\n",
       "    </tr>\n",
       "  </thead>\n",
       "  <tbody>\n",
       "    <tr>\n",
       "      <th>0</th>\n",
       "      <td>id</td>\n",
       "      <td>belongs_to_collection</td>\n",
       "      <td>budget</td>\n",
       "      <td>genres</td>\n",
       "      <td>homepage</td>\n",
       "      <td>imdb_id</td>\n",
       "      <td>original_language</td>\n",
       "      <td>original_title</td>\n",
       "      <td>overview</td>\n",
       "      <td>popularity</td>\n",
       "      <td>...</td>\n",
       "      <td>release_date</td>\n",
       "      <td>runtime</td>\n",
       "      <td>spoken_languages</td>\n",
       "      <td>status</td>\n",
       "      <td>tagline</td>\n",
       "      <td>title</td>\n",
       "      <td>Keywords</td>\n",
       "      <td>cast</td>\n",
       "      <td>crew</td>\n",
       "      <td>revenue</td>\n",
       "    </tr>\n",
       "    <tr>\n",
       "      <th>1</th>\n",
       "      <td>1</td>\n",
       "      <td>[{'id': 313576, 'name': 'Hot Tub Time Machine ...</td>\n",
       "      <td>14000000</td>\n",
       "      <td>[{'id': 35, 'name': 'Comedy'}]</td>\n",
       "      <td>NaN</td>\n",
       "      <td>tt2637294</td>\n",
       "      <td>en</td>\n",
       "      <td>Hot Tub Time Machine 2</td>\n",
       "      <td>When Lou, who has become the \"father of the In...</td>\n",
       "      <td>6.575393</td>\n",
       "      <td>...</td>\n",
       "      <td>2/20/15</td>\n",
       "      <td>93</td>\n",
       "      <td>[{'iso_639_1': 'en', 'name': 'English'}]</td>\n",
       "      <td>Released</td>\n",
       "      <td>The Laws of Space and Time are About to be Vio...</td>\n",
       "      <td>Hot Tub Time Machine 2</td>\n",
       "      <td>[{'id': 4379, 'name': 'time travel'}, {'id': 9...</td>\n",
       "      <td>[{'cast_id': 4, 'character': 'Lou', 'credit_id...</td>\n",
       "      <td>[{'credit_id': '59ac067c92514107af02c8c8', 'de...</td>\n",
       "      <td>12314651</td>\n",
       "    </tr>\n",
       "    <tr>\n",
       "      <th>2</th>\n",
       "      <td>2</td>\n",
       "      <td>[{'id': 107674, 'name': 'The Princess Diaries ...</td>\n",
       "      <td>40000000</td>\n",
       "      <td>[{'id': 35, 'name': 'Comedy'}, {'id': 18, 'nam...</td>\n",
       "      <td>NaN</td>\n",
       "      <td>tt0368933</td>\n",
       "      <td>en</td>\n",
       "      <td>The Princess Diaries 2: Royal Engagement</td>\n",
       "      <td>Mia Thermopolis is now a college graduate and ...</td>\n",
       "      <td>8.248895</td>\n",
       "      <td>...</td>\n",
       "      <td>8/6/04</td>\n",
       "      <td>113</td>\n",
       "      <td>[{'iso_639_1': 'en', 'name': 'English'}]</td>\n",
       "      <td>Released</td>\n",
       "      <td>It can take a lifetime to find true love; she'...</td>\n",
       "      <td>The Princess Diaries 2: Royal Engagement</td>\n",
       "      <td>[{'id': 2505, 'name': 'coronation'}, {'id': 42...</td>\n",
       "      <td>[{'cast_id': 1, 'character': 'Mia Thermopolis'...</td>\n",
       "      <td>[{'credit_id': '52fe43fe9251416c7502563d', 'de...</td>\n",
       "      <td>95149435</td>\n",
       "    </tr>\n",
       "    <tr>\n",
       "      <th>3</th>\n",
       "      <td>3</td>\n",
       "      <td>NaN</td>\n",
       "      <td>3300000</td>\n",
       "      <td>[{'id': 18, 'name': 'Drama'}]</td>\n",
       "      <td>http://sonyclassics.com/whiplash/</td>\n",
       "      <td>tt2582802</td>\n",
       "      <td>en</td>\n",
       "      <td>Whiplash</td>\n",
       "      <td>Under the direction of a ruthless instructor, ...</td>\n",
       "      <td>64.29999</td>\n",
       "      <td>...</td>\n",
       "      <td>10/10/14</td>\n",
       "      <td>105</td>\n",
       "      <td>[{'iso_639_1': 'en', 'name': 'English'}]</td>\n",
       "      <td>Released</td>\n",
       "      <td>The road to greatness can take you to the edge.</td>\n",
       "      <td>Whiplash</td>\n",
       "      <td>[{'id': 1416, 'name': 'jazz'}, {'id': 1523, 'n...</td>\n",
       "      <td>[{'cast_id': 5, 'character': 'Andrew Neimann',...</td>\n",
       "      <td>[{'credit_id': '54d5356ec3a3683ba0000039', 'de...</td>\n",
       "      <td>13092000</td>\n",
       "    </tr>\n",
       "    <tr>\n",
       "      <th>4</th>\n",
       "      <td>4</td>\n",
       "      <td>NaN</td>\n",
       "      <td>1200000</td>\n",
       "      <td>[{'id': 53, 'name': 'Thriller'}, {'id': 18, 'n...</td>\n",
       "      <td>http://kahaanithefilm.com/</td>\n",
       "      <td>tt1821480</td>\n",
       "      <td>hi</td>\n",
       "      <td>Kahaani</td>\n",
       "      <td>Vidya Bagchi (Vidya Balan) arrives in Kolkata ...</td>\n",
       "      <td>3.174936</td>\n",
       "      <td>...</td>\n",
       "      <td>3/9/12</td>\n",
       "      <td>122</td>\n",
       "      <td>[{'iso_639_1': 'en', 'name': 'English'}, {'iso...</td>\n",
       "      <td>Released</td>\n",
       "      <td>NaN</td>\n",
       "      <td>Kahaani</td>\n",
       "      <td>[{'id': 10092, 'name': 'mystery'}, {'id': 1054...</td>\n",
       "      <td>[{'cast_id': 1, 'character': 'Vidya Bagchi', '...</td>\n",
       "      <td>[{'credit_id': '52fe48779251416c9108d6eb', 'de...</td>\n",
       "      <td>16000000</td>\n",
       "    </tr>\n",
       "  </tbody>\n",
       "</table>\n",
       "<p>5 rows × 23 columns</p>\n",
       "</div>"
      ],
      "text/plain": [
       "   id                              belongs_to_collection    budget  \\\n",
       "0  id                              belongs_to_collection    budget   \n",
       "1   1  [{'id': 313576, 'name': 'Hot Tub Time Machine ...  14000000   \n",
       "2   2  [{'id': 107674, 'name': 'The Princess Diaries ...  40000000   \n",
       "3   3                                                NaN   3300000   \n",
       "4   4                                                NaN   1200000   \n",
       "\n",
       "                                              genres  \\\n",
       "0                                             genres   \n",
       "1                     [{'id': 35, 'name': 'Comedy'}]   \n",
       "2  [{'id': 35, 'name': 'Comedy'}, {'id': 18, 'nam...   \n",
       "3                      [{'id': 18, 'name': 'Drama'}]   \n",
       "4  [{'id': 53, 'name': 'Thriller'}, {'id': 18, 'n...   \n",
       "\n",
       "                            homepage    imdb_id  original_language  \\\n",
       "0                           homepage    imdb_id  original_language   \n",
       "1                                NaN  tt2637294                 en   \n",
       "2                                NaN  tt0368933                 en   \n",
       "3  http://sonyclassics.com/whiplash/  tt2582802                 en   \n",
       "4         http://kahaanithefilm.com/  tt1821480                 hi   \n",
       "\n",
       "                             original_title  \\\n",
       "0                            original_title   \n",
       "1                    Hot Tub Time Machine 2   \n",
       "2  The Princess Diaries 2: Royal Engagement   \n",
       "3                                  Whiplash   \n",
       "4                                   Kahaani   \n",
       "\n",
       "                                            overview  popularity  ...  \\\n",
       "0                                           overview  popularity  ...   \n",
       "1  When Lou, who has become the \"father of the In...    6.575393  ...   \n",
       "2  Mia Thermopolis is now a college graduate and ...    8.248895  ...   \n",
       "3  Under the direction of a ruthless instructor, ...    64.29999  ...   \n",
       "4  Vidya Bagchi (Vidya Balan) arrives in Kolkata ...    3.174936  ...   \n",
       "\n",
       "   release_date  runtime                                   spoken_languages  \\\n",
       "0  release_date  runtime                                   spoken_languages   \n",
       "1       2/20/15       93           [{'iso_639_1': 'en', 'name': 'English'}]   \n",
       "2        8/6/04      113           [{'iso_639_1': 'en', 'name': 'English'}]   \n",
       "3      10/10/14      105           [{'iso_639_1': 'en', 'name': 'English'}]   \n",
       "4        3/9/12      122  [{'iso_639_1': 'en', 'name': 'English'}, {'iso...   \n",
       "\n",
       "     status                                            tagline  \\\n",
       "0    status                                            tagline   \n",
       "1  Released  The Laws of Space and Time are About to be Vio...   \n",
       "2  Released  It can take a lifetime to find true love; she'...   \n",
       "3  Released    The road to greatness can take you to the edge.   \n",
       "4  Released                                                NaN   \n",
       "\n",
       "                                      title  \\\n",
       "0                                     title   \n",
       "1                    Hot Tub Time Machine 2   \n",
       "2  The Princess Diaries 2: Royal Engagement   \n",
       "3                                  Whiplash   \n",
       "4                                   Kahaani   \n",
       "\n",
       "                                            Keywords  \\\n",
       "0                                           Keywords   \n",
       "1  [{'id': 4379, 'name': 'time travel'}, {'id': 9...   \n",
       "2  [{'id': 2505, 'name': 'coronation'}, {'id': 42...   \n",
       "3  [{'id': 1416, 'name': 'jazz'}, {'id': 1523, 'n...   \n",
       "4  [{'id': 10092, 'name': 'mystery'}, {'id': 1054...   \n",
       "\n",
       "                                                cast  \\\n",
       "0                                               cast   \n",
       "1  [{'cast_id': 4, 'character': 'Lou', 'credit_id...   \n",
       "2  [{'cast_id': 1, 'character': 'Mia Thermopolis'...   \n",
       "3  [{'cast_id': 5, 'character': 'Andrew Neimann',...   \n",
       "4  [{'cast_id': 1, 'character': 'Vidya Bagchi', '...   \n",
       "\n",
       "                                                crew   revenue  \n",
       "0                                               crew   revenue  \n",
       "1  [{'credit_id': '59ac067c92514107af02c8c8', 'de...  12314651  \n",
       "2  [{'credit_id': '52fe43fe9251416c7502563d', 'de...  95149435  \n",
       "3  [{'credit_id': '54d5356ec3a3683ba0000039', 'de...  13092000  \n",
       "4  [{'credit_id': '52fe48779251416c9108d6eb', 'de...  16000000  \n",
       "\n",
       "[5 rows x 23 columns]"
      ]
     },
     "execution_count": 28,
     "metadata": {},
     "output_type": "execute_result"
    }
   ],
   "source": [
    "df.head()"
   ]
  },
  {
   "cell_type": "code",
   "execution_count": 29,
   "metadata": {},
   "outputs": [
    {
     "data": {
      "text/plain": [
       "Index(['id', 'belongs_to_collection', 'budget', 'genres', 'homepage',\n",
       "       'imdb_id', 'original_language', 'original_title', 'overview',\n",
       "       'popularity', 'poster_path', 'production_companies',\n",
       "       'production_countries', 'release_date', 'runtime', 'spoken_languages',\n",
       "       'status', 'tagline', 'title', 'Keywords', 'cast', 'crew', 'revenue'],\n",
       "      dtype='object')"
      ]
     },
     "execution_count": 29,
     "metadata": {},
     "output_type": "execute_result"
    }
   ],
   "source": [
    "df.columns"
   ]
  },
  {
   "cell_type": "code",
   "execution_count": 30,
   "metadata": {},
   "outputs": [
    {
     "data": {
      "text/plain": [
       "pandas.core.series.Series"
      ]
     },
     "execution_count": 30,
     "metadata": {},
     "output_type": "execute_result"
    }
   ],
   "source": [
    "type(df['belongs_to_collection'])"
   ]
  },
  {
   "cell_type": "code",
   "execution_count": 31,
   "metadata": {},
   "outputs": [
    {
     "data": {
      "text/plain": [
       "pandas.core.frame.DataFrame"
      ]
     },
     "execution_count": 31,
     "metadata": {},
     "output_type": "execute_result"
    }
   ],
   "source": [
    "type(df)"
   ]
  },
  {
   "cell_type": "markdown",
   "metadata": {},
   "source": [
    "#### Loading excel file"
   ]
  },
  {
   "cell_type": "code",
   "execution_count": 32,
   "metadata": {},
   "outputs": [],
   "source": [
    "# Excel file\n",
    "file=pd.read_excel('./data/data_info.xlsx',sheet_name='train') # By default first sheet"
   ]
  },
  {
   "cell_type": "code",
   "execution_count": 33,
   "metadata": {},
   "outputs": [
    {
     "data": {
      "text/plain": [
       "pandas.core.frame.DataFrame"
      ]
     },
     "execution_count": 33,
     "metadata": {},
     "output_type": "execute_result"
    }
   ],
   "source": [
    "type(file)"
   ]
  },
  {
   "cell_type": "code",
   "execution_count": 34,
   "metadata": {},
   "outputs": [
    {
     "name": "stdout",
     "output_type": "stream",
     "text": [
      "<class 'pandas.core.frame.DataFrame'>\n",
      "RangeIndex: 6 entries, 0 to 5\n",
      "Data columns (total 2 columns):\n",
      "Columns        6 non-null object\n",
      "Description    6 non-null object\n",
      "dtypes: object(2)\n",
      "memory usage: 176.0+ bytes\n"
     ]
    }
   ],
   "source": [
    "file.info()"
   ]
  },
  {
   "cell_type": "markdown",
   "metadata": {},
   "source": [
    "#### Loading Json file"
   ]
  },
  {
   "cell_type": "code",
   "execution_count": 35,
   "metadata": {},
   "outputs": [],
   "source": [
    "df = pd.read_json(\"./data/students.json\",lines= True)"
   ]
  },
  {
   "cell_type": "code",
   "execution_count": 36,
   "metadata": {},
   "outputs": [
    {
     "data": {
      "text/plain": [
       "pandas.core.frame.DataFrame"
      ]
     },
     "execution_count": 36,
     "metadata": {},
     "output_type": "execute_result"
    }
   ],
   "source": [
    "type(df)"
   ]
  },
  {
   "cell_type": "code",
   "execution_count": 37,
   "metadata": {
    "scrolled": false
   },
   "outputs": [
    {
     "name": "stdout",
     "output_type": "stream",
     "text": [
      "   _id  exam   homework              name  quiz\n",
      "0    0   1.5  35.874035        aimee Zank    12\n",
      "1    1   2.8  36.000000  Aurelia Menendez    15\n",
      "2    2   3.5  40.000000       Corliss Zuk    10\n",
      "3    3   3.6  49.000000        Bao Ziglar    20\n",
      "4    4   3.7  54.000000  Zachary Langlais    20\n",
      "    _id  exam  homework              name  quiz\n",
      "6     6   4.8     100.0  Jenette Flanders    16\n",
      "7     7   3.2      54.0      Salena Olmos    17\n",
      "8     8   3.1      43.0      Daphne Zheng    13\n",
      "9     9   4.6      90.0        Sanda Ryba    19\n",
      "10   10   3.9      67.0      Denisha Cast    18\n"
     ]
    }
   ],
   "source": [
    "print(df.head())\n",
    "print(df.tail())"
   ]
  },
  {
   "cell_type": "markdown",
   "metadata": {},
   "source": [
    "### Topic 3: Saving file to location"
   ]
  },
  {
   "cell_type": "markdown",
   "metadata": {},
   "source": [
    "#### Writing file to CSV"
   ]
  },
  {
   "cell_type": "code",
   "execution_count": 38,
   "metadata": {},
   "outputs": [],
   "source": [
    "df.to_csv('./data/df_batch2.csv',sep=',',index=True,header=True)"
   ]
  },
  {
   "cell_type": "markdown",
   "metadata": {},
   "source": [
    "#### Writing file to Excel"
   ]
  },
  {
   "cell_type": "code",
   "execution_count": 39,
   "metadata": {},
   "outputs": [],
   "source": [
    "#df.to_excel('C:/Users/koser/Documents/Floatint Courses/Machine Learning From Scratch/C01L09- Chug Data, Spit Frames/data/df_batch2.xlsx',sheet_name='batch1')\n",
    "\n",
    "#Multiple sheet in one sheet\n",
    "with pd.ExcelWriter('./data/output_batch1.xlsx') as writer:\n",
    "    df.to_excel(writer, sheet_name='Sheet_name_1_batch')\n",
    "    df.to_excel(writer, sheet_name='Sheet_name_2')"
   ]
  },
  {
   "cell_type": "markdown",
   "metadata": {},
   "source": [
    "#### Writing file to json"
   ]
  },
  {
   "cell_type": "code",
   "execution_count": 40,
   "metadata": {},
   "outputs": [
    {
     "data": {
      "text/html": [
       "<div>\n",
       "<style scoped>\n",
       "    .dataframe tbody tr th:only-of-type {\n",
       "        vertical-align: middle;\n",
       "    }\n",
       "\n",
       "    .dataframe tbody tr th {\n",
       "        vertical-align: top;\n",
       "    }\n",
       "\n",
       "    .dataframe thead th {\n",
       "        text-align: right;\n",
       "    }\n",
       "</style>\n",
       "<table border=\"1\" class=\"dataframe\">\n",
       "  <thead>\n",
       "    <tr style=\"text-align: right;\">\n",
       "      <th></th>\n",
       "      <th>_id</th>\n",
       "      <th>exam</th>\n",
       "      <th>homework</th>\n",
       "      <th>name</th>\n",
       "      <th>quiz</th>\n",
       "    </tr>\n",
       "  </thead>\n",
       "  <tbody>\n",
       "    <tr>\n",
       "      <th>0</th>\n",
       "      <td>0</td>\n",
       "      <td>1.5</td>\n",
       "      <td>35.874035</td>\n",
       "      <td>aimee Zank</td>\n",
       "      <td>12</td>\n",
       "    </tr>\n",
       "    <tr>\n",
       "      <th>1</th>\n",
       "      <td>1</td>\n",
       "      <td>2.8</td>\n",
       "      <td>36.000000</td>\n",
       "      <td>Aurelia Menendez</td>\n",
       "      <td>15</td>\n",
       "    </tr>\n",
       "    <tr>\n",
       "      <th>2</th>\n",
       "      <td>2</td>\n",
       "      <td>3.5</td>\n",
       "      <td>40.000000</td>\n",
       "      <td>Corliss Zuk</td>\n",
       "      <td>10</td>\n",
       "    </tr>\n",
       "    <tr>\n",
       "      <th>3</th>\n",
       "      <td>3</td>\n",
       "      <td>3.6</td>\n",
       "      <td>49.000000</td>\n",
       "      <td>Bao Ziglar</td>\n",
       "      <td>20</td>\n",
       "    </tr>\n",
       "    <tr>\n",
       "      <th>4</th>\n",
       "      <td>4</td>\n",
       "      <td>3.7</td>\n",
       "      <td>54.000000</td>\n",
       "      <td>Zachary Langlais</td>\n",
       "      <td>20</td>\n",
       "    </tr>\n",
       "    <tr>\n",
       "      <th>5</th>\n",
       "      <td>5</td>\n",
       "      <td>4.9</td>\n",
       "      <td>96.000000</td>\n",
       "      <td>Wilburn Spiess</td>\n",
       "      <td>19</td>\n",
       "    </tr>\n",
       "    <tr>\n",
       "      <th>6</th>\n",
       "      <td>6</td>\n",
       "      <td>4.8</td>\n",
       "      <td>100.000000</td>\n",
       "      <td>Jenette Flanders</td>\n",
       "      <td>16</td>\n",
       "    </tr>\n",
       "    <tr>\n",
       "      <th>7</th>\n",
       "      <td>7</td>\n",
       "      <td>3.2</td>\n",
       "      <td>54.000000</td>\n",
       "      <td>Salena Olmos</td>\n",
       "      <td>17</td>\n",
       "    </tr>\n",
       "    <tr>\n",
       "      <th>8</th>\n",
       "      <td>8</td>\n",
       "      <td>3.1</td>\n",
       "      <td>43.000000</td>\n",
       "      <td>Daphne Zheng</td>\n",
       "      <td>13</td>\n",
       "    </tr>\n",
       "    <tr>\n",
       "      <th>9</th>\n",
       "      <td>9</td>\n",
       "      <td>4.6</td>\n",
       "      <td>90.000000</td>\n",
       "      <td>Sanda Ryba</td>\n",
       "      <td>19</td>\n",
       "    </tr>\n",
       "    <tr>\n",
       "      <th>10</th>\n",
       "      <td>10</td>\n",
       "      <td>3.9</td>\n",
       "      <td>67.000000</td>\n",
       "      <td>Denisha Cast</td>\n",
       "      <td>18</td>\n",
       "    </tr>\n",
       "  </tbody>\n",
       "</table>\n",
       "</div>"
      ],
      "text/plain": [
       "    _id  exam    homework              name  quiz\n",
       "0     0   1.5   35.874035        aimee Zank    12\n",
       "1     1   2.8   36.000000  Aurelia Menendez    15\n",
       "2     2   3.5   40.000000       Corliss Zuk    10\n",
       "3     3   3.6   49.000000        Bao Ziglar    20\n",
       "4     4   3.7   54.000000  Zachary Langlais    20\n",
       "5     5   4.9   96.000000    Wilburn Spiess    19\n",
       "6     6   4.8  100.000000  Jenette Flanders    16\n",
       "7     7   3.2   54.000000      Salena Olmos    17\n",
       "8     8   3.1   43.000000      Daphne Zheng    13\n",
       "9     9   4.6   90.000000        Sanda Ryba    19\n",
       "10   10   3.9   67.000000      Denisha Cast    18"
      ]
     },
     "execution_count": 40,
     "metadata": {},
     "output_type": "execute_result"
    }
   ],
   "source": [
    "df"
   ]
  },
  {
   "cell_type": "code",
   "execution_count": 41,
   "metadata": {},
   "outputs": [],
   "source": [
    "# Converting to json\n",
    "df.to_json('./data/df_batch2.json',orient='index')  # orient='index' , orient='columns'"
   ]
  },
  {
   "cell_type": "markdown",
   "metadata": {},
   "source": [
    "#### Writing file to pickle\n",
    "<b>Python pickle module </b> is used for serializing and de-serializing a Python object structure. Any object in Python can be pickled so that it can be saved on disk. What pickle does is that it “serializes” the object first before writing it to file. Pickling is a way to convert a python object (list, dict, etc.) into a character stream. The idea is that this character stream contains all the information necessary to reconstruct the object in another python script."
   ]
  },
  {
   "cell_type": "code",
   "execution_count": 42,
   "metadata": {},
   "outputs": [],
   "source": [
    "df.to_pickle(\"./data/df_batch.pkl\")"
   ]
  },
  {
   "cell_type": "code",
   "execution_count": 43,
   "metadata": {},
   "outputs": [],
   "source": [
    "df=pd.read_pickle('./data/df_batch.pkl')"
   ]
  },
  {
   "cell_type": "code",
   "execution_count": 44,
   "metadata": {},
   "outputs": [
    {
     "data": {
      "text/html": [
       "<div>\n",
       "<style scoped>\n",
       "    .dataframe tbody tr th:only-of-type {\n",
       "        vertical-align: middle;\n",
       "    }\n",
       "\n",
       "    .dataframe tbody tr th {\n",
       "        vertical-align: top;\n",
       "    }\n",
       "\n",
       "    .dataframe thead th {\n",
       "        text-align: right;\n",
       "    }\n",
       "</style>\n",
       "<table border=\"1\" class=\"dataframe\">\n",
       "  <thead>\n",
       "    <tr style=\"text-align: right;\">\n",
       "      <th></th>\n",
       "      <th>_id</th>\n",
       "      <th>exam</th>\n",
       "      <th>homework</th>\n",
       "      <th>name</th>\n",
       "      <th>quiz</th>\n",
       "    </tr>\n",
       "  </thead>\n",
       "  <tbody>\n",
       "    <tr>\n",
       "      <th>0</th>\n",
       "      <td>0</td>\n",
       "      <td>1.5</td>\n",
       "      <td>35.874035</td>\n",
       "      <td>aimee Zank</td>\n",
       "      <td>12</td>\n",
       "    </tr>\n",
       "    <tr>\n",
       "      <th>1</th>\n",
       "      <td>1</td>\n",
       "      <td>2.8</td>\n",
       "      <td>36.000000</td>\n",
       "      <td>Aurelia Menendez</td>\n",
       "      <td>15</td>\n",
       "    </tr>\n",
       "    <tr>\n",
       "      <th>2</th>\n",
       "      <td>2</td>\n",
       "      <td>3.5</td>\n",
       "      <td>40.000000</td>\n",
       "      <td>Corliss Zuk</td>\n",
       "      <td>10</td>\n",
       "    </tr>\n",
       "    <tr>\n",
       "      <th>3</th>\n",
       "      <td>3</td>\n",
       "      <td>3.6</td>\n",
       "      <td>49.000000</td>\n",
       "      <td>Bao Ziglar</td>\n",
       "      <td>20</td>\n",
       "    </tr>\n",
       "    <tr>\n",
       "      <th>4</th>\n",
       "      <td>4</td>\n",
       "      <td>3.7</td>\n",
       "      <td>54.000000</td>\n",
       "      <td>Zachary Langlais</td>\n",
       "      <td>20</td>\n",
       "    </tr>\n",
       "    <tr>\n",
       "      <th>5</th>\n",
       "      <td>5</td>\n",
       "      <td>4.9</td>\n",
       "      <td>96.000000</td>\n",
       "      <td>Wilburn Spiess</td>\n",
       "      <td>19</td>\n",
       "    </tr>\n",
       "    <tr>\n",
       "      <th>6</th>\n",
       "      <td>6</td>\n",
       "      <td>4.8</td>\n",
       "      <td>100.000000</td>\n",
       "      <td>Jenette Flanders</td>\n",
       "      <td>16</td>\n",
       "    </tr>\n",
       "    <tr>\n",
       "      <th>7</th>\n",
       "      <td>7</td>\n",
       "      <td>3.2</td>\n",
       "      <td>54.000000</td>\n",
       "      <td>Salena Olmos</td>\n",
       "      <td>17</td>\n",
       "    </tr>\n",
       "    <tr>\n",
       "      <th>8</th>\n",
       "      <td>8</td>\n",
       "      <td>3.1</td>\n",
       "      <td>43.000000</td>\n",
       "      <td>Daphne Zheng</td>\n",
       "      <td>13</td>\n",
       "    </tr>\n",
       "    <tr>\n",
       "      <th>9</th>\n",
       "      <td>9</td>\n",
       "      <td>4.6</td>\n",
       "      <td>90.000000</td>\n",
       "      <td>Sanda Ryba</td>\n",
       "      <td>19</td>\n",
       "    </tr>\n",
       "    <tr>\n",
       "      <th>10</th>\n",
       "      <td>10</td>\n",
       "      <td>3.9</td>\n",
       "      <td>67.000000</td>\n",
       "      <td>Denisha Cast</td>\n",
       "      <td>18</td>\n",
       "    </tr>\n",
       "  </tbody>\n",
       "</table>\n",
       "</div>"
      ],
      "text/plain": [
       "    _id  exam    homework              name  quiz\n",
       "0     0   1.5   35.874035        aimee Zank    12\n",
       "1     1   2.8   36.000000  Aurelia Menendez    15\n",
       "2     2   3.5   40.000000       Corliss Zuk    10\n",
       "3     3   3.6   49.000000        Bao Ziglar    20\n",
       "4     4   3.7   54.000000  Zachary Langlais    20\n",
       "5     5   4.9   96.000000    Wilburn Spiess    19\n",
       "6     6   4.8  100.000000  Jenette Flanders    16\n",
       "7     7   3.2   54.000000      Salena Olmos    17\n",
       "8     8   3.1   43.000000      Daphne Zheng    13\n",
       "9     9   4.6   90.000000        Sanda Ryba    19\n",
       "10   10   3.9   67.000000      Denisha Cast    18"
      ]
     },
     "execution_count": 44,
     "metadata": {},
     "output_type": "execute_result"
    }
   ],
   "source": [
    "df"
   ]
  },
  {
   "cell_type": "markdown",
   "metadata": {},
   "source": [
    "### No Assignment "
   ]
  },
  {
   "cell_type": "markdown",
   "metadata": {},
   "source": [
    "### Thank You -- See you in next Class - More hands on Pandas"
   ]
  }
 ],
 "metadata": {
  "kernelspec": {
   "display_name": "Python 3",
   "language": "python",
   "name": "python3"
  },
  "language_info": {
   "codemirror_mode": {
    "name": "ipython",
    "version": 3
   },
   "file_extension": ".py",
   "mimetype": "text/x-python",
   "name": "python",
   "nbconvert_exporter": "python",
   "pygments_lexer": "ipython3",
   "version": "3.7.3"
  }
 },
 "nbformat": 4,
 "nbformat_minor": 2
}
